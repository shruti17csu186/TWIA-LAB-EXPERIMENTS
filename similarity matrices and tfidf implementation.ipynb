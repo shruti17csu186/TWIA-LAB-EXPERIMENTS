{
 "cells": [
  {
   "cell_type": "code",
   "execution_count": 1,
   "metadata": {},
   "outputs": [
    {
     "name": "stdout",
     "output_type": "stream",
     "text": [
      "{'new', 'oil', 'of', 'the', 'is', 'data', 'economy', 'digital'}\n"
     ]
    },
    {
     "data": {
      "text/plain": [
       "0.4444444444444444"
      ]
     },
     "execution_count": 1,
     "metadata": {},
     "output_type": "execute_result"
    }
   ],
   "source": [
    "import nltk\n",
    "from nltk.metrics import *\n",
    "doc_1 = \"Data is the new oil of the digital economy\"\n",
    "doc_2 = \"Data is a new oil\"\n",
    "words_doc1=doc_1.lower().split()\n",
    "words_doc1\n",
    "words_doc2=doc_2.lower().split()\n",
    "words_doc2\n",
    "set_doc1=set(words_doc1)\n",
    "set_doc2=set(words_doc2)\n",
    "print(set_doc1)\n",
    "intersection = set_doc1.intersection(set_doc2)\n",
    "union = set_doc1.union(set_doc2)\n",
    "jaccard=float(len(intersection)) / len(union)\n",
    "jaccard"
   ]
  },
  {
   "cell_type": "code",
   "execution_count": 8,
   "metadata": {},
   "outputs": [
    {
     "data": {
      "text/plain": [
       "16"
      ]
     },
     "execution_count": 8,
     "metadata": {},
     "output_type": "execute_result"
    }
   ],
   "source": [
    "#LEVENSHTEIN DISTANCE\n",
    "\n",
    "import enchant\n",
    "data1= \"shruti jain is a good girl.\"\n",
    "data2 = \"shruti jain\" \n",
    "enchant.utils.levenshtein(data1,data2) "
   ]
  },
  {
   "cell_type": "code",
   "execution_count": 9,
   "metadata": {},
   "outputs": [
    {
     "name": "stderr",
     "output_type": "stream",
     "text": [
      "[nltk_data] Error loading  punkt : Package ' punkt ' not found in\n",
      "[nltk_data]     index\n",
      "[nltk_data] Downloading package stopwords to\n",
      "[nltk_data]     C:\\Users\\Shruti\\AppData\\Roaming\\nltk_data...\n",
      "[nltk_data]   Package stopwords is already up-to-date!\n"
     ]
    },
    {
     "name": "stdout",
     "output_type": "stream",
     "text": [
      "Enter first string: shruti is a good girl\n",
      "Enter second string: shruti studies at ncu\n"
     ]
    }
   ],
   "source": [
    "#COSINE SIMILARITY\n",
    "import nltk\n",
    "nltk.download ( ' punkt ' )\n",
    "nltk.download('stopwords')\n",
    "\n",
    "from nltk.corpus import stopwords\n",
    "from nltk.tokenize import word_tokenize\n",
    "\n",
    "\n",
    "I = input(\"Enter first string: \").lower() \n",
    "II = input(\"Enter second string: \").lower()\n"
   ]
  },
  {
   "cell_type": "code",
   "execution_count": 11,
   "metadata": {},
   "outputs": [
    {
     "name": "stdout",
     "output_type": "stream",
     "text": [
      "First List ['shruti', 'is', 'a', 'good', 'girl']\n",
      "Second Lzst ['shruti', 'studies', 'at', 'ncu']\n"
     ]
    }
   ],
   "source": [
    "# tokenization\n",
    "I_list = word_tokenize(I) \n",
    "II_list = word_tokenize(II) \n",
    "print('First List', I_list) \n",
    "print('Second Lzst', II_list)\n",
    "\n"
   ]
  },
  {
   "cell_type": "code",
   "execution_count": 14,
   "metadata": {},
   "outputs": [
    {
     "name": "stdout",
     "output_type": "stream",
     "text": [
      " First Set  {'shruti', 'good', 'girl'}\n",
      " second Set {'shruti', 'ncu', 'studies'}\n"
     ]
    }
   ],
   "source": [
    "#removing stopwords\n",
    "\n",
    "sw = stopwords.words('english') \n",
    "l1 =[]\n",
    "l2 =[]\n",
    "I_set = {w for w in I_list if not w in sw}\n",
    "II_set = {w for w in II_list if not w in sw}\n",
    " \n",
    "print ( ' First Set ' ,I_set)\n",
    "print ( ' second Set' ,II_set )\n",
    " \n",
    "\n"
   ]
  },
  {
   "cell_type": "code",
   "execution_count": 24,
   "metadata": {},
   "outputs": [],
   "source": [
    "# Forming a set containing keywords of both strings\n",
    "\n",
    "rvector = I_set.union(II_set) \n",
    "for w in rvector:\n",
    "    if w in I_set: \n",
    "        l1.append(1) \n",
    "    else: \n",
    "        l1.append(0)\n",
    "    if w in II_set: \n",
    "        l2.append(1) \n",
    "    else: \n",
    "        l2.append(0)\n",
    "c = 0\n"
   ]
  },
  {
   "cell_type": "code",
   "execution_count": 35,
   "metadata": {},
   "outputs": [
    {
     "name": "stdout",
     "output_type": "stream",
     "text": [
      "Enter first string: shruti jain is the student of text and web analytics\n",
      "Enter second string: shruti jain is the student of northcap university\n"
     ]
    }
   ],
   "source": [
    "#Cosine similarity matrix\n",
    "I = input(\"Enter first string: \").lower() \n",
    "II = input(\"Enter second string: \").lower()\n"
   ]
  },
  {
   "cell_type": "code",
   "execution_count": 58,
   "metadata": {},
   "outputs": [
    {
     "data": {
      "text/html": [
       "<div>\n",
       "<style scoped>\n",
       "    .dataframe tbody tr th:only-of-type {\n",
       "        vertical-align: middle;\n",
       "    }\n",
       "\n",
       "    .dataframe tbody tr th {\n",
       "        vertical-align: top;\n",
       "    }\n",
       "\n",
       "    .dataframe thead th {\n",
       "        text-align: right;\n",
       "    }\n",
       "</style>\n",
       "<table border=\"1\" class=\"dataframe\">\n",
       "  <thead>\n",
       "    <tr style=\"text-align: right;\">\n",
       "      <th></th>\n",
       "      <th>analytics</th>\n",
       "      <th>and</th>\n",
       "      <th>is</th>\n",
       "      <th>jain</th>\n",
       "      <th>northcap</th>\n",
       "      <th>of</th>\n",
       "      <th>shruti</th>\n",
       "      <th>student</th>\n",
       "      <th>text</th>\n",
       "      <th>the</th>\n",
       "      <th>university</th>\n",
       "      <th>web</th>\n",
       "    </tr>\n",
       "  </thead>\n",
       "  <tbody>\n",
       "    <tr>\n",
       "      <th>I</th>\n",
       "      <td>1</td>\n",
       "      <td>1</td>\n",
       "      <td>1</td>\n",
       "      <td>1</td>\n",
       "      <td>0</td>\n",
       "      <td>1</td>\n",
       "      <td>1</td>\n",
       "      <td>1</td>\n",
       "      <td>1</td>\n",
       "      <td>1</td>\n",
       "      <td>0</td>\n",
       "      <td>1</td>\n",
       "    </tr>\n",
       "    <tr>\n",
       "      <th>II</th>\n",
       "      <td>0</td>\n",
       "      <td>0</td>\n",
       "      <td>1</td>\n",
       "      <td>1</td>\n",
       "      <td>1</td>\n",
       "      <td>1</td>\n",
       "      <td>1</td>\n",
       "      <td>1</td>\n",
       "      <td>0</td>\n",
       "      <td>1</td>\n",
       "      <td>1</td>\n",
       "      <td>0</td>\n",
       "    </tr>\n",
       "  </tbody>\n",
       "</table>\n",
       "</div>"
      ],
      "text/plain": [
       "    analytics  and  is  jain  northcap  of  shruti  student  text  the  \\\n",
       "I           1    1   1     1         0   1       1        1     1    1   \n",
       "II          0    0   1     1         1   1       1        1     0    1   \n",
       "\n",
       "    university  web  \n",
       "I            0    1  \n",
       "II           1    0  "
      ]
     },
     "execution_count": 58,
     "metadata": {},
     "output_type": "execute_result"
    }
   ],
   "source": [
    "documents = [I,II]\n",
    "from sklearn.feature_extraction.text import CountVectorizer \n",
    "import pandas as pd\n",
    "count_vectorizer = CountVectorizer(stop_words='english') \n",
    "count_vectorizer = CountVectorizer()\n",
    "sparse_matrix = count_vectorizer.fit_transform(documents)\n",
    "doc_term_matrix = sparse_matrix.todense() \n",
    "df = pd.DataFrame(doc_term_matrix,columns=count_vectorizer.get_feature_names(),index=['I', 'II'])\n",
    "df\n"
   ]
  },
  {
   "cell_type": "code",
   "execution_count": 37,
   "metadata": {},
   "outputs": [
    {
     "name": "stdout",
     "output_type": "stream",
     "text": [
      "['challenge', 'challenges', 'do', 'limit', 'limits', 'not', 'their', 'your']\n"
     ]
    },
    {
     "data": {
      "text/plain": [
       "array([1.69314718, 1.28768207, 1.69314718, 1.69314718, 1.28768207,\n",
       "       1.69314718, 1.69314718, 1.28768207])"
      ]
     },
     "execution_count": 37,
     "metadata": {},
     "output_type": "execute_result"
    }
   ],
   "source": [
    "#2.Calculate the TF-IDF vectorizer on 2 documents.\n",
    "#TF-IDF\n",
    "import pandas as pd \n",
    "from sklearn.feature_extraction.text import CountVectorizer \n",
    "from sklearn.feature_extraction.text import TfidfVectorizer\n",
    "text = [\"Do not limit your challenges,challenge your limits\",\n",
    "        \"your challenges\",\n",
    "        \"their limits\"]\n",
    "vect = TfidfVectorizer()\n",
    "X = vect.fit_transform(text)\n",
    "print(vect.get_feature_names())\n",
    "vect.idf_"
   ]
  },
  {
   "cell_type": "code",
   "execution_count": 42,
   "metadata": {},
   "outputs": [
    {
     "name": "stdout",
     "output_type": "stream",
     "text": [
      "features: ['analytics', 'northcap', 'text', 'university', 'web']\n"
     ]
    }
   ],
   "source": [
    "#3.Apply the max-df, min-df param in the TF-IDF function.\n",
    "data= [I,II]\n",
    "from sklearn.feature_extraction.text import CountVectorizer \n",
    "import pandas as pd\n",
    "count_vec = CountVectorizer(stop_words='english',analyzer=\"word\",ngram_range=(1,1),max_df=0.50,min_df=1,max_features=None) \n",
    "count_train= count_vec.fit(data)\n",
    "bag_of_words=count_vec.transform(data)\n",
    "print(\"features:\",count_vec.get_feature_names())\n"
   ]
  },
  {
   "cell_type": "code",
   "execution_count": 50,
   "metadata": {},
   "outputs": [
    {
     "name": "stderr",
     "output_type": "stream",
     "text": [
      "[nltk_data] Downloading package stopwords to\n",
      "[nltk_data]     C:\\Users\\Shruti\\AppData\\Roaming\\nltk_data...\n",
      "[nltk_data]   Package stopwords is already up-to-date!\n"
     ]
    },
    {
     "data": {
      "text/plain": [
       "True"
      ]
     },
     "execution_count": 50,
     "metadata": {},
     "output_type": "execute_result"
    }
   ],
   "source": [
    "#4.Compute Cosine Similarity using both TF-IDF and Count vectorizer \n",
    "from sklearn.feature_extraction.text import CountVectorizer \n",
    "from sklearn.feature_extraction.text import TfidfTransformer\n",
    "from nltk.corpus import stopwords\n",
    "import numpy as np\n",
    "import numpy.linalg as LA \n",
    "import nltk\n",
    "nltk.download(\"stopwords\")"
   ]
  },
  {
   "cell_type": "code",
   "execution_count": 51,
   "metadata": {},
   "outputs": [],
   "source": [
    "train_dataset=[\"shruti is a good girl\",\"shruti studies at northcap university\"]#document\n",
    "test_dataset=[\"a good girl named shruti studies at nothcap university\"]#query\n",
    "stopWords=stopwords.words(\"English\")"
   ]
  },
  {
   "cell_type": "code",
   "execution_count": 56,
   "metadata": {},
   "outputs": [
    {
     "name": "stdout",
     "output_type": "stream",
     "text": [
      "Vectorizer :  CountVectorizer(analyzer='word', binary=False, decode_error='strict',\n",
      "                dtype=<class 'numpy.int64'>, encoding='utf-8', input='content',\n",
      "                lowercase=True, max_df=1.0, max_features=None, min_df=1,\n",
      "                ngram_range=(1, 1), preprocessor=None,\n",
      "                stop_words=['i', 'me', 'my', 'myself', 'we', 'our', 'ours',\n",
      "                            'ourselves', 'you', \"you're\", \"you've\", \"you'll\",\n",
      "                            \"you'd\", 'your', 'yours', 'yourself', 'yourselves',\n",
      "                            'he', 'him', 'his', 'himself', 'she', \"she's\",\n",
      "                            'her', 'hers', 'herself', 'it', \"it's\", 'its',\n",
      "                            'itself', ...],\n",
      "                strip_accents=None, token_pattern='(?u)\\\\b\\\\w\\\\w+\\\\b',\n",
      "                tokenizer=None, vocabulary=None)\n",
      "\n",
      "\n",
      "TF-IDF Transformer :  TfidfTransformer(norm='l2', smooth_idf=True, sublinear_tf=False, use_idf=True)\n",
      "Fit Vectorizer to train set \n",
      " [[1 1 0 1 0 0]\n",
      " [0 0 1 1 1 1]]\n",
      "\n",
      "\n",
      "Transform Vectorizer to test set\n",
      " [[1 1 0 1 1 1]]\n"
     ]
    }
   ],
   "source": [
    "vectorizer = CountVectorizer(stop_words = stopWords) \n",
    "print('Vectorizer : ',vectorizer)\n",
    "transformer = TfidfTransformer() \n",
    "print('\\n\\nTF-IDF Transformer : ',transformer)\n",
    "#Using Count Vectorizer\n",
    "trainVectorizerArray = vectorizer.fit_transform(train_dataset).toarray() \n",
    "testVectorizerArray =vectorizer.transform(test_dataset).toarray()\n",
    "print ('Fit Vectorizer to train set \\n', trainVectorizerArray)\n",
    "print ('\\n\\nTransform Vectorizer to test set\\n', testVectorizerArray)\n"
   ]
  },
  {
   "cell_type": "code",
   "execution_count": 57,
   "metadata": {},
   "outputs": [
    {
     "name": "stdout",
     "output_type": "stream",
     "text": [
      "Fit transformer to train set \n",
      " [[0.6316672  0.6316672  0.         0.44943642 0.         0.        ]\n",
      " [0.         0.         0.53404633 0.37997836 0.53404633 0.53404633]]\n",
      "\n",
      "\n",
      "Fit transformer to test set\n",
      " [[0.4472136 0.4472136 0.        0.4472136 0.4472136 0.4472136]]\n"
     ]
    }
   ],
   "source": [
    " #Using \n",
    "transformer.fit(trainVectorizerArray)\n",
    "print('Fit transformer to train set \\n',transformer.transform(trainVectorizerArray).toarray()) \n",
    "transformer.fit(testVectorizerArray)\n",
    "tfidf = transformer.transform(testVectorizerArray) \n",
    "print('\\n\\nFit transformer to test set\\n',tfidf.todense())\n"
   ]
  },
  {
   "cell_type": "code",
   "execution_count": null,
   "metadata": {},
   "outputs": [],
   "source": []
  }
 ],
 "metadata": {
  "kernelspec": {
   "display_name": "Python 3",
   "language": "python",
   "name": "python3"
  },
  "language_info": {
   "codemirror_mode": {
    "name": "ipython",
    "version": 3
   },
   "file_extension": ".py",
   "mimetype": "text/x-python",
   "name": "python",
   "nbconvert_exporter": "python",
   "pygments_lexer": "ipython3",
   "version": "3.7.3"
  }
 },
 "nbformat": 4,
 "nbformat_minor": 4
}
