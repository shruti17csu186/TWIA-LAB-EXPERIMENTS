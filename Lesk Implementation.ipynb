{
 "cells": [
  {
   "cell_type": "code",
   "execution_count": null,
   "metadata": {
    "colab": {
     "base_uri": "https://localhost:8080/"
    },
    "id": "5jRjN-0F_Y7v",
    "outputId": "3a44fdbb-f0cb-4cce-c37b-20721f7a4625"
   },
   "outputs": [
    {
     "name": "stdout",
     "output_type": "stream",
     "text": [
      "Requirement already satisfied: pywsd in /usr/local/lib/python3.7/dist-packages (1.2.4)\n",
      "Requirement already satisfied: wn in /usr/local/lib/python3.7/dist-packages (from pywsd) (0.0.23)\n",
      "Requirement already satisfied: six in /usr/local/lib/python3.7/dist-packages (from pywsd) (1.15.0)\n",
      "Requirement already satisfied: nltk in /usr/local/lib/python3.7/dist-packages (from pywsd) (3.2.5)\n",
      "Requirement already satisfied: numpy in /usr/local/lib/python3.7/dist-packages (from pywsd) (1.19.5)\n",
      "Requirement already satisfied: pandas in /usr/local/lib/python3.7/dist-packages (from pywsd) (1.1.5)\n",
      "Requirement already satisfied: pytz>=2017.2 in /usr/local/lib/python3.7/dist-packages (from pandas->pywsd) (2018.9)\n",
      "Requirement already satisfied: python-dateutil>=2.7.3 in /usr/local/lib/python3.7/dist-packages (from pandas->pywsd) (2.8.1)\n"
     ]
    }
   ],
   "source": [
    "!pip install pywsd"
   ]
  },
  {
   "cell_type": "code",
   "execution_count": null,
   "metadata": {
    "colab": {
     "base_uri": "https://localhost:8080/",
     "height": 318
    },
    "id": "TX5OmbTdBGNO",
    "outputId": "3c50b5f7-e140-4538-9eec-307c7ee2f21a"
   },
   "outputs": [
    {
     "name": "stdout",
     "output_type": "stream",
     "text": [
      "Collecting wn==0.0.23\n",
      "\u001b[?25l  Downloading https://files.pythonhosted.org/packages/bc/f6/72db36e8afc977ae1a1cbb22afc77fd9b514e9bc6927ae8f4aae36665961/wn-0.0.23.tar.gz (31.6MB)\n",
      "\u001b[K     |████████████████████████████████| 31.6MB 142kB/s \n",
      "\u001b[?25hBuilding wheels for collected packages: wn\n",
      "  Building wheel for wn (setup.py) ... \u001b[?25l\u001b[?25hdone\n",
      "  Created wheel for wn: filename=wn-0.0.23-cp37-none-any.whl size=31792944 sha256=b7ba8b146e0a8eb84d4db67da055824dd7cfcec6a075abb222891d6665de8e51\n",
      "  Stored in directory: /root/.cache/pip/wheels/56/e3/c4/886021dbf4d758dc3cb9ddaa47d7d6fc895240d83f010e6305\n",
      "Successfully built wn\n",
      "Installing collected packages: wn\n",
      "  Found existing installation: wn 0.6.1\n",
      "    Uninstalling wn-0.6.1:\n",
      "      Successfully uninstalled wn-0.6.1\n",
      "Successfully installed wn-0.0.23\n"
     ]
    },
    {
     "data": {
      "application/vnd.colab-display-data+json": {
       "pip_warning": {
        "packages": [
         "wn"
        ]
       }
      }
     },
     "metadata": {
      "tags": []
     },
     "output_type": "display_data"
    }
   ],
   "source": [
    "!pip install -U wn==0.0.23"
   ]
  },
  {
   "cell_type": "code",
   "execution_count": null,
   "metadata": {
    "colab": {
     "base_uri": "https://localhost:8080/"
    },
    "id": "RUrVPwmlBlmW",
    "outputId": "5430e18b-f603-45fb-c902-e362f5a26d7a"
   },
   "outputs": [
    {
     "name": "stdout",
     "output_type": "stream",
     "text": [
      "[nltk_data] Downloading package averaged_perceptron_tagger to\n",
      "[nltk_data]     /root/nltk_data...\n",
      "[nltk_data]   Package averaged_perceptron_tagger is already up-to-\n",
      "[nltk_data]       date!\n",
      "[nltk_data] Downloading package wordnet to /root/nltk_data...\n",
      "[nltk_data]   Package wordnet is already up-to-date!\n",
      "[nltk_data] Downloading package punkt to /root/nltk_data...\n",
      "[nltk_data]   Unzipping tokenizers/punkt.zip.\n"
     ]
    },
    {
     "data": {
      "text/plain": [
       "True"
      ]
     },
     "execution_count": 7,
     "metadata": {
      "tags": []
     },
     "output_type": "execute_result"
    }
   ],
   "source": [
    "import nltk\n",
    "nltk.download('averaged_perceptron_tagger')\n",
    "nltk.download('wordnet')\n",
    "nltk.download('punkt')"
   ]
  },
  {
   "cell_type": "code",
   "execution_count": null,
   "metadata": {
    "id": "hwW-FN2v_qH4"
   },
   "outputs": [],
   "source": [
    "from pywsd.lesk import simple_lesk  "
   ]
  },
  {
   "cell_type": "code",
   "execution_count": null,
   "metadata": {
    "id": "Fj-t1RBeDJny"
   },
   "outputs": [],
   "source": [
    "sentences = ['I went to the bank to deposit my money','The river bank had a lot of fishes and crocodiles.'] \n",
    "\n",
    "#ambiguous word - Bank"
   ]
  },
  {
   "cell_type": "markdown",
   "metadata": {
    "id": "b640kE5DC1ah"
   },
   "source": [
    "###**LESK WORKS CORRECTLY**"
   ]
  },
  {
   "cell_type": "code",
   "execution_count": null,
   "metadata": {
    "colab": {
     "base_uri": "https://localhost:8080/"
    },
    "id": "LurDXQYUCgKv",
    "outputId": "406b7a28-15d3-4ef9-acbe-cf5b27494bed"
   },
   "outputs": [
    {
     "name": "stdout",
     "output_type": "stream",
     "text": [
      "Context-1: I went to the bank to deposit my money\n",
      "Sense: Synset('depository_financial_institution.n.01')\n",
      "Definition :  a financial institution that accepts deposits and channels the money into lending activities\n"
     ]
    }
   ],
   "source": [
    "# Context 1 - Financial institution \n",
    "\n",
    "print (\"Context-1:\", sentences[0])  \n",
    "answer = simple_lesk(sentences[0],'bank')  \n",
    "print (\"Sense:\", answer)  \n",
    "print (\"Definition : \", answer.definition())  \n",
    "\n",
    "# Correct Output - Financial Institution printed\n",
    "# No disambiguity"
   ]
  },
  {
   "cell_type": "code",
   "execution_count": null,
   "metadata": {
    "colab": {
     "base_uri": "https://localhost:8080/"
    },
    "id": "jkAgfFlTCJ6n",
    "outputId": "75f8acee-06af-4a86-8fd8-6fec08d93cb4"
   },
   "outputs": [
    {
     "name": "stdout",
     "output_type": "stream",
     "text": [
      "Context-2: The river bank had a lot of fishes and crocodiles.\n",
      "Sense: Synset('bank.n.01')\n",
      "Definition :  sloping land (especially the slope beside a body of water)\n"
     ]
    }
   ],
   "source": [
    "# Context 2 - River Bank\n",
    "\n",
    "print (\"Context-2:\", sentences[1])  \n",
    "answer = simple_lesk(sentences[1],'bank')  \n",
    "print (\"Sense:\", answer)  \n",
    "print (\"Definition : \", answer.definition())  \n",
    "\n",
    "\n",
    "# Correct Output - River Bank or sloping land printed\n",
    "# No disambiguity"
   ]
  },
  {
   "cell_type": "markdown",
   "metadata": {
    "id": "VIc12YUqDSj-"
   },
   "source": [
    "###**LESK WORKS INCORRECTLY**"
   ]
  },
  {
   "cell_type": "code",
   "execution_count": null,
   "metadata": {
    "id": "ScoHz_A2DYrK"
   },
   "outputs": [],
   "source": [
    "new_sentences = ['The workers at the plant were overworked','The plant was no longer bearing flowers','The workers at the industrial plant were overworked']\n",
    "\n",
    "#ambiguous word - Plant"
   ]
  },
  {
   "cell_type": "code",
   "execution_count": null,
   "metadata": {
    "colab": {
     "base_uri": "https://localhost:8080/"
    },
    "id": "a7uAxqknD00k",
    "outputId": "4ace7095-0782-420b-fa6c-44414aeedab3"
   },
   "outputs": [
    {
     "name": "stdout",
     "output_type": "stream",
     "text": [
      "Context-1: The workers at the plant were overworked\n",
      "Sense: Synset('plant.v.06')\n",
      "Definition :  put firmly in the mind\n"
     ]
    }
   ],
   "source": [
    "# Context 1 - Industrial plant\n",
    "\n",
    "print (\"Context-1:\", new_sentences[0])  \n",
    "answer = simple_lesk(new_sentences[0],'plant')  \n",
    "print (\"Sense:\", answer)  \n",
    "print (\"Definition : \", answer.definition())  \n",
    "\n",
    "# Incorrect output - Industrial plant not printed\n",
    "# Disambiguity occured"
   ]
  },
  {
   "cell_type": "code",
   "execution_count": null,
   "metadata": {
    "colab": {
     "base_uri": "https://localhost:8080/"
    },
    "id": "uj8DzwBFEFwH",
    "outputId": "fb1cb859-a99d-4a8a-c5ea-2dc43e8576df"
   },
   "outputs": [
    {
     "name": "stdout",
     "output_type": "stream",
     "text": [
      "Context-2: The plant was no longer bearing flowers\n",
      "Sense: Synset('plant.v.01')\n",
      "Definition :  put or set (seeds, seedlings, or plants) into the ground\n"
     ]
    }
   ],
   "source": [
    "# Context 2 - Tree/Seedling/Sapling\n",
    "\n",
    "print (\"Context-2:\", new_sentences[1])  \n",
    "answer = simple_lesk(new_sentences[1],'plant')  \n",
    "print (\"Sense:\", answer)  \n",
    "print (\"Definition : \", answer.definition())  \n",
    "\n",
    "# Correct output - Plant bearing flower sense printed\n",
    "# No disambiguity"
   ]
  },
  {
   "cell_type": "code",
   "execution_count": null,
   "metadata": {
    "colab": {
     "base_uri": "https://localhost:8080/"
    },
    "id": "EWMV0e_8Efyr",
    "outputId": "af6200a8-d42a-4f45-ee97-c77c4d2e6ec6"
   },
   "outputs": [
    {
     "name": "stdout",
     "output_type": "stream",
     "text": [
      "Context-3: The workers at the industrial plant were overworked\n",
      "Sense: Synset('plant.n.01')\n",
      "Definition :  buildings for carrying on industrial labor\n"
     ]
    }
   ],
   "source": [
    "# Context 3 - Industrial plant (Added the word industrial before plant in \n",
    "# Context 1)\n",
    "\n",
    "print (\"Context-3:\", new_sentences[2])  \n",
    "answer = simple_lesk(new_sentences[2],'plant')  \n",
    "print (\"Sense:\", answer)  \n",
    "print (\"Definition : \", answer.definition())  \n",
    "\n",
    "# Correct output - Industrial plant printed \n",
    "# (Disambiguity resolved by adding the word \"industrial\" in the sentence.)"
   ]
  }
 ],
 "metadata": {
  "colab": {
   "name": "LAB_PRACTICAL_5_17CSU098.ipynb",
   "provenance": []
  },
  "kernelspec": {
   "display_name": "Python 3",
   "language": "python",
   "name": "python3"
  },
  "language_info": {
   "codemirror_mode": {
    "name": "ipython",
    "version": 3
   },
   "file_extension": ".py",
   "mimetype": "text/x-python",
   "name": "python",
   "nbconvert_exporter": "python",
   "pygments_lexer": "ipython3",
   "version": "3.7.3"
  }
 },
 "nbformat": 4,
 "nbformat_minor": 1
}
